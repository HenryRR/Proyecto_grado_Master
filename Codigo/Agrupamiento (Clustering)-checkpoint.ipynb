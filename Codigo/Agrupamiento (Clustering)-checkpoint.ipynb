{
 "cells": [
  {
   "cell_type": "markdown",
   "metadata": {
    "ExecuteTime": {
     "end_time": "2020-02-24T19:03:56.677082Z",
     "start_time": "2020-02-24T19:03:54.127280Z"
    }
   },
   "source": [
    "# Agrupamiento con K-medias"
   ]
  },
  {
   "cell_type": "code",
   "execution_count": 1,
   "metadata": {
    "ExecuteTime": {
     "end_time": "2022-04-07T11:15:45.896307Z",
     "start_time": "2022-04-07T11:15:42.918934Z"
    }
   },
   "outputs": [],
   "source": [
    "# datos\n",
    "import requests\n",
    "import pandas as pd\n",
    "import os\n",
    "import sys\n",
    "\n",
    "# procesamiento de texto\n",
    "import numpy as np\n",
    "from sklearn.feature_extraction.text import TfidfVectorizer\n",
    "from nltk.util import ngrams\n",
    "from nltk import bigrams\n",
    "import itertools\n",
    "import collections\n",
    "\n",
    "import pickle\n",
    "import random\n",
    "from collections import Counter\n",
    "\n",
    "# Visualización\n",
    "import matplotlib.pyplot as plt\n",
    "from sklearn.cluster import KMeans\n",
    "import nltk\n",
    "import networkx as nx"
   ]
  },
  {
   "cell_type": "code",
   "execution_count": 3,
   "metadata": {
    "ExecuteTime": {
     "end_time": "2022-04-07T11:16:22.529138Z",
     "start_time": "2022-04-07T11:16:22.113732Z"
    }
   },
   "outputs": [],
   "source": [
    "def remove_sw(words,sw_list):\n",
    "    return [word for word in words if word not in sw_list]\n",
    "\n",
    "scriptPath = sys.path[0]\n",
    "\n",
    "\n",
    "\n",
    "# directorio de trabajo absoluto para los bucles\n",
    "os.chdir(scriptPath)\n",
    "\n",
    "# Cargar títulos\n",
    "titles_clean = pickle.load( open( \"titles.p\", \"rb\" ) )\n",
    "    \n",
    "# stopwords adicionales\n",
    "with open(scriptPath+'\\\\additional_stopwords.txt', 'rb') as f:\n",
    "    sw_additional = f.read().decode('utf-8').replace(u'\\r', u'').split(u'\\n')\n",
    "\n",
    "titles_clustering = [' '.join(w for w in p.split() if w not in sw_additional) for p in titles_clean]            \n",
    "\n",
    "# Geografía\n",
    "df_geoCol = pd.read_csv(scriptPath+'\\\\geografiaCol.txt',\n",
    "                 delimiter = '\\t',\n",
    "                 header=None)\n",
    "\n",
    "geo_names = df_geoCol[0].tolist()\n",
    "geo_names = [' '.join(geo_names)]\n",
    "geo_names = geo_names[0].lower().split()\n",
    "\n",
    "titles_clustering_f = [' '.join(w for w in p.split() if w not in geo_names) for p in titles_clustering]"
   ]
  },
  {
   "cell_type": "markdown",
   "metadata": {},
   "source": [
    "## Vectorizar"
   ]
  },
  {
   "cell_type": "code",
   "execution_count": 4,
   "metadata": {
    "ExecuteTime": {
     "end_time": "2022-04-07T11:17:01.321892Z",
     "start_time": "2022-04-07T11:17:01.273865Z"
    }
   },
   "outputs": [
    {
     "name": "stdout",
     "output_type": "stream",
     "text": [
      "[[0. 0. 0. ... 0. 0. 0.]\n",
      " [0. 0. 0. ... 0. 0. 0.]\n",
      " [0. 0. 0. ... 0. 0. 0.]\n",
      " ...\n",
      " [0. 0. 0. ... 0. 0. 0.]\n",
      " [0. 0. 0. ... 0. 0. 0.]\n",
      " [0. 0. 0. ... 0. 0. 0.]]\n"
     ]
    }
   ],
   "source": [
    "corpus = titles_clustering_f.copy()\n",
    "\n",
    "# Vectorización\n",
    "vectorizer = TfidfVectorizer()\n",
    "matrix = vectorizer.fit_transform(corpus)\n",
    "\n",
    "a = matrix.todense()\n",
    "print(a)\n"
   ]
  },
  {
   "cell_type": "markdown",
   "metadata": {},
   "source": [
    "## Matriz de similitud"
   ]
  },
  {
   "cell_type": "code",
   "execution_count": 5,
   "metadata": {
    "ExecuteTime": {
     "end_time": "2022-04-07T11:17:07.173624Z",
     "start_time": "2022-04-07T11:17:07.101627Z"
    }
   },
   "outputs": [
    {
     "name": "stderr",
     "output_type": "stream",
     "text": [
      "C:\\Users\\mayo_\\anaconda3\\lib\\site-packages\\sklearn\\utils\\validation.py:585: FutureWarning: np.matrix usage is deprecated in 1.0 and will raise a TypeError in 1.2. Please convert to a numpy array with np.asarray. For more information see: https://numpy.org/doc/stable/reference/generated/numpy.matrix.html\n",
      "  warnings.warn(\n"
     ]
    },
    {
     "data": {
      "text/plain": [
       "matrix([[ 0.00000000e+00,  8.10873322e-01,  9.84047324e-01, ...,\n",
       "          9.52861316e-01,  9.05310139e-01,  9.40842853e-01],\n",
       "        [ 8.10873322e-01,  0.00000000e+00,  8.47306698e-01, ...,\n",
       "          9.66155491e-01,  7.42036391e-01,  8.40944155e-01],\n",
       "        [ 9.84047324e-01,  8.47306698e-01, -2.22044605e-16, ...,\n",
       "          9.76029547e-01,  8.67529034e-01,  7.98785616e-01],\n",
       "        ...,\n",
       "        [ 9.52861316e-01,  9.66155491e-01,  9.76029547e-01, ...,\n",
       "          0.00000000e+00,  9.46734551e-01,  9.66335748e-01],\n",
       "        [ 9.05310139e-01,  7.42036391e-01,  8.67529034e-01, ...,\n",
       "          9.46734551e-01, -2.22044605e-16,  7.77089796e-01],\n",
       "        [ 9.40842853e-01,  8.40944155e-01,  7.98785616e-01, ...,\n",
       "          9.66335748e-01,  7.77089796e-01,  1.11022302e-16]])"
      ]
     },
     "execution_count": 5,
     "metadata": {},
     "output_type": "execute_result"
    }
   ],
   "source": [
    "from sklearn.metrics.pairwise import cosine_similarity\n",
    "\n",
    "dist = 1 - cosine_similarity(a)\n",
    "dist_mat = np.asmatrix(dist)\n",
    "dist_mat\n"
   ]
  },
  {
   "cell_type": "markdown",
   "metadata": {},
   "source": [
    "## Análisis de Componentes Principales"
   ]
  },
  {
   "cell_type": "code",
   "execution_count": 6,
   "metadata": {
    "ExecuteTime": {
     "end_time": "2022-04-07T11:17:26.106292Z",
     "start_time": "2022-04-07T11:17:25.850204Z"
    }
   },
   "outputs": [
    {
     "name": "stderr",
     "output_type": "stream",
     "text": [
      "C:\\Users\\mayo_\\anaconda3\\lib\\site-packages\\sklearn\\utils\\validation.py:585: FutureWarning: np.matrix usage is deprecated in 1.0 and will raise a TypeError in 1.2. Please convert to a numpy array with np.asarray. For more information see: https://numpy.org/doc/stable/reference/generated/numpy.matrix.html\n",
      "  warnings.warn(\n",
      "C:\\Users\\mayo_\\anaconda3\\lib\\site-packages\\sklearn\\utils\\validation.py:585: FutureWarning: np.matrix usage is deprecated in 1.0 and will raise a TypeError in 1.2. Please convert to a numpy array with np.asarray. For more information see: https://numpy.org/doc/stable/reference/generated/numpy.matrix.html\n",
      "  warnings.warn(\n"
     ]
    },
    {
     "data": {
      "text/plain": [
       "<function matplotlib.pyplot.show(close=None, block=None)>"
      ]
     },
     "execution_count": 6,
     "metadata": {},
     "output_type": "execute_result"
    },
    {
     "data": {
      "image/png": "[encoded data removed]",
      "text/plain": [
       "<Figure size 648x576 with 1 Axes>"
      ]
     },
     "metadata": {
      "needs_background": "light"
     },
     "output_type": "display_data"
    }
   ],
   "source": [
    "# Visualizar cluster con PCA\n",
    "from sklearn.decomposition import PCA\n",
    "\n",
    "pca = PCA(n_components=10)\n",
    "pca_data = pca.fit_transform(dist_mat)\n",
    "\n",
    "pca_all = pca.fit(dist_mat)\n",
    "pca_all.explained_variance_ratio_\n",
    "pca_all.explained_variance_ratio_.sum()\n",
    "\n",
    "plt.figure(figsize=(9,8))\n",
    "plt.scatter(pca_data[:,1], pca_data[:,2], c='goldenrod',alpha=0.5)\n",
    "plt.show\n",
    "\n"
   ]
  },
  {
   "cell_type": "code",
   "execution_count": 7,
   "metadata": {
    "ExecuteTime": {
     "end_time": "2022-04-07T11:17:34.246893Z",
     "start_time": "2022-04-07T11:17:34.238820Z"
    }
   },
   "outputs": [
    {
     "data": {
      "text/plain": [
       "0.7147022485355601"
      ]
     },
     "execution_count": 7,
     "metadata": {},
     "output_type": "execute_result"
    }
   ],
   "source": [
    "pca_all.explained_variance_ratio_.sum()"
   ]
  },
  {
   "cell_type": "markdown",
   "metadata": {},
   "source": [
    "## Escoger número de clusters"
   ]
  },
  {
   "cell_type": "code",
   "execution_count": 9,
   "metadata": {
    "ExecuteTime": {
     "end_time": "2022-04-07T11:21:13.180953Z",
     "start_time": "2022-04-07T11:21:11.474798Z"
    }
   },
   "outputs": [
    {
     "name": "stderr",
     "output_type": "stream",
     "text": [
      "C:\\Users\\mayo_\\anaconda3\\lib\\site-packages\\sklearn\\cluster\\_kmeans.py:1039: UserWarning: KMeans is known to have a memory leak on Windows with MKL, when there are less chunks than available threads. You can avoid it by setting the environment variable OMP_NUM_THREADS=1.\n",
      "  warnings.warn(\n"
     ]
    },
    {
     "data": {
      "image/png": "[encoded data removed]",
      "text/plain": [
       "<Figure size 432x288 with 1 Axes>"
      ]
     },
     "metadata": {
      "needs_background": "light"
     },
     "output_type": "display_data"
    }
   ],
   "source": [
    "#-------------------------------------------------------------------------------\n",
    "# Método del codo\n",
    "\n",
    "# Guardar componentes en un dataframe\n",
    "PCA_components = pd.DataFrame(pca_data)\n",
    "PCA_components.iloc[:,9]\n",
    "\n",
    "ks = range(1, 20)\n",
    "inertias = []\n",
    "\n",
    "for k in ks:\n",
    "    # Modelo K-medias\n",
    "    model = KMeans(n_clusters=k, init='k-means++')\n",
    "    \n",
    "    # Ajustar modelo\n",
    "    model.fit(PCA_components)\n",
    "    \n",
    "    # Resultado a la lista\n",
    "    inertias.append(model.inertia_)\n",
    "    \n",
    "plt.plot(ks, inertias, '-o', color='black')\n",
    "plt.xlabel('number of clusters, k')\n",
    "plt.ylabel('inertia')\n",
    "plt.xticks(ks)\n",
    "plt.show()\n",
    "\n"
   ]
  },
  {
   "cell_type": "code",
   "execution_count": 10,
   "metadata": {
    "ExecuteTime": {
     "end_time": "2022-04-07T11:21:36.444973Z",
     "start_time": "2022-04-07T11:21:35.062379Z"
    }
   },
   "outputs": [
    {
     "data": {
      "image/png": "[encoded data removed]",
      "text/plain": [
       "<Figure size 432x288 with 1 Axes>"
      ]
     },
     "metadata": {
      "needs_background": "light"
     },
     "output_type": "display_data"
    }
   ],
   "source": [
    "# Método de la Silueta\n",
    "from sklearn.metrics import silhouette_score\n",
    "\n",
    "random.seed(100)\n",
    "sil = []\n",
    "kmax = 20\n",
    "\n",
    "\n",
    "for k in range(2, kmax+1):\n",
    "  kmeans = KMeans(n_clusters = k, init='k-means++',random_state=1).fit(PCA_components)\n",
    "  labels = kmeans.labels_\n",
    "  sil.append(silhouette_score(PCA_components, labels, metric = 'euclidean'))\n",
    "\n",
    "\n",
    "plt.plot(ks,sil,  '-o', color='black')\n",
    "plt.xlabel('number of clusters, k')\n",
    "plt.ylabel('silhouette score')\n",
    "plt.xticks(ks)\n",
    "plt.show()\n",
    "\n"
   ]
  },
  {
   "cell_type": "code",
   "execution_count": 11,
   "metadata": {
    "ExecuteTime": {
     "end_time": "2022-04-07T11:21:53.056232Z",
     "start_time": "2022-04-07T11:21:51.957869Z"
    }
   },
   "outputs": [
    {
     "data": {
      "text/plain": [
       "10"
      ]
     },
     "execution_count": 11,
     "metadata": {},
     "output_type": "execute_result"
    }
   ],
   "source": [
    "#### Número óptimo de clusters con distancia intra clusters - WCSS\n",
    "from math import sqrt\n",
    "\n",
    "def calculate_wcss(data):\n",
    "    wcss = []\n",
    "    for n in range(2, 21):\n",
    "        kmeans = KMeans(n_clusters=n)\n",
    "        kmeans.fit(X=data)\n",
    "        wcss.append(kmeans.inertia_)\n",
    "    \n",
    "    return wcss\n",
    "\n",
    "wcss = calculate_wcss(PCA_components)\n",
    "\n",
    "def optimal_number_of_clusters(wcss):\n",
    "    x1, y1 = 2, wcss[0]\n",
    "    x2, y2 = 20, wcss[len(wcss)-1]\n",
    "\n",
    "    distances = []\n",
    "    for i in range(len(wcss)):\n",
    "        x0 = i+2\n",
    "        y0 = wcss[i]\n",
    "        numerator = abs((y2-y1)*x0 - (x2-x1)*y0 + x2*y1 - y2*x1)\n",
    "        denominator = sqrt((y2 - y1)**2 + (x2 - x1)**2)\n",
    "        distances.append(numerator/denominator)\n",
    "    \n",
    "    return distances.index(max(distances)) + 2\n",
    "\n",
    "optimal_number = optimal_number_of_clusters(wcss)\n",
    "\n",
    "#--------------------------------------------------------------------------------\n",
    "optimal_number\n"
   ]
  },
  {
   "cell_type": "markdown",
   "metadata": {},
   "source": [
    "## K-medias"
   ]
  },
  {
   "cell_type": "code",
   "execution_count": 12,
   "metadata": {
    "ExecuteTime": {
     "end_time": "2022-04-07T11:22:47.813240Z",
     "start_time": "2022-04-07T11:22:47.476568Z"
    }
   },
   "outputs": [
    {
     "data": {
      "image/png": "[encoded data removed]",
      "text/plain": [
       "<Figure size 504x504 with 1 Axes>"
      ]
     },
     "metadata": {
      "needs_background": "light"
     },
     "output_type": "display_data"
    }
   ],
   "source": [
    "# k-medias con 10 clusters\n",
    "kmeans = KMeans(n_clusters = 10)\n",
    "\n",
    "# ajustar\n",
    "kmeans_object = kmeans.fit(PCA_components)\n",
    "X_clustered = kmeans.fit_predict(PCA_components)\n",
    "\n",
    "# definir colores\n",
    "LABEL_COLOR_MAP = {0:'r', 1: 'g', 2: 'b', 3: 'y', 4: 'peru', 5:'coral', 6:'olive',7:'cyan',8:'purple',9:'grey'}\n",
    "label_color = [LABEL_COLOR_MAP[l] for l in X_clustered]\n",
    "\n",
    "# graficar a través de las componentes principales\n",
    "plt.figure(figsize = (7,7))\n",
    "plt.scatter(PCA_components.iloc[:,1],PCA_components.iloc[:,2], c= label_color, alpha=0.5) \n",
    "plt.show()\n"
   ]
  },
  {
   "cell_type": "markdown",
   "metadata": {},
   "source": [
    "## Incrustación estocástica de vecinos embebidos (T-SNE)"
   ]
  },
  {
   "cell_type": "code",
   "execution_count": 13,
   "metadata": {
    "ExecuteTime": {
     "end_time": "2022-04-07T11:23:03.623754Z",
     "start_time": "2022-04-07T11:23:03.085381Z"
    },
    "scrolled": true
   },
   "outputs": [
    {
     "name": "stderr",
     "output_type": "stream",
     "text": [
      "C:\\Users\\mayo_\\anaconda3\\lib\\site-packages\\sklearn\\manifold\\_t_sne.py:780: FutureWarning: The default initialization in TSNE will change from 'random' to 'pca' in 1.2.\n",
      "  warnings.warn(\n",
      "C:\\Users\\mayo_\\anaconda3\\lib\\site-packages\\sklearn\\manifold\\_t_sne.py:790: FutureWarning: The default learning rate in TSNE will change from 200.0 to 'auto' in 1.2.\n",
      "  warnings.warn(\n"
     ]
    },
    {
     "data": {
      "image/png": "[encoded data removed]",
      "text/plain": [
       "<Figure size 432x288 with 1 Axes>"
      ]
     },
     "metadata": {
      "needs_background": "light"
     },
     "output_type": "display_data"
    }
   ],
   "source": [
    "\n",
    "from sklearn.manifold import TSNE\n",
    "X = TSNE(n_components=2, perplexity = 15).fit_transform( pca_data )\n",
    "\n",
    "# graficar\n",
    "colors = np.array(['red','green','blue','yellow','peru','coral','olive','cyan','purple','grey'])\n",
    "plt.scatter(X[:,0], X[:,1], c=colors[kmeans.labels_])\n",
    "plt.title('K-Means (t-SNE)')\n",
    "plt.show()    \n"
   ]
  },
  {
   "cell_type": "markdown",
   "metadata": {},
   "source": [
    "## Extraer datos del cluster"
   ]
  },
  {
   "cell_type": "code",
   "execution_count": 14,
   "metadata": {
    "ExecuteTime": {
     "end_time": "2022-04-07T11:23:19.160075Z",
     "start_time": "2022-04-07T11:23:19.096647Z"
    }
   },
   "outputs": [
    {
     "data": {
      "text/plain": [
       "[[('información', 301),\n",
       "  ('catastral', 265),\n",
       "  ('catastro', 201),\n",
       "  ('política', 144),\n",
       "  ('igac', 127),\n",
       "  ('multipropósito', 107),\n",
       "  ('entidades', 104),\n",
       "  ('implementación', 102),\n",
       "  ('registro', 94),\n",
       "  ('gestión', 92),\n",
       "  ('ministerio', 84),\n",
       "  ('desarrollo', 81),\n",
       "  ('territorio', 76),\n",
       "  ('actualización', 75),\n",
       "  ('recursos', 71),\n",
       "  ('país', 69),\n",
       "  ('documento', 62),\n",
       "  ('datos', 62),\n",
       "  ('snr', 60),\n",
       "  ('territoriales', 60)],\n",
       " [('ministerio', 33),\n",
       "  ('desarrollo', 24),\n",
       "  ('rural', 16),\n",
       "  ('agencia', 13),\n",
       "  ('planeación', 11),\n",
       "  ('agricultura', 9),\n",
       "  ('tierras', 9),\n",
       "  ('administrativo', 8),\n",
       "  ('sostenible', 8),\n",
       "  ('unidad', 7),\n",
       "  ('social', 6),\n",
       "  ('ambiente', 6),\n",
       "  ('público', 5),\n",
       "  ('política', 5),\n",
       "  ('territorio', 5),\n",
       "  ('hacienda', 4),\n",
       "  ('crédito', 4),\n",
       "  ('estadística', 4),\n",
       "  ('planificación', 4),\n",
       "  ('adecuación', 4)],\n",
       " [('empresas', 5),\n",
       "  ('industriales', 5),\n",
       "  ('comerciales', 5),\n",
       "  ('societarias', 5),\n",
       "  ('orden', 5),\n",
       "  ('diciembre', 5),\n",
       "  ('planeación', 5),\n",
       "  ('ministerio', 5),\n",
       "  ('hacienda', 5),\n",
       "  ('crédito', 5),\n",
       "  ('público', 5),\n",
       "  ('corte', 4),\n",
       "  ('instrucciones', 3),\n",
       "  ('representantes', 3),\n",
       "  ('nación', 3),\n",
       "  ('entidades', 3),\n",
       "  ('destinación', 3),\n",
       "  ('utilidades', 3),\n",
       "  ('sociedades', 3),\n",
       "  ('economía', 3)],\n",
       " [('ministerio', 23),\n",
       "  ('importancia', 15),\n",
       "  ('estratégica', 15),\n",
       "  ('crédito', 15),\n",
       "  ('público', 15),\n",
       "  ('planeación', 14),\n",
       "  ('proyecto', 13),\n",
       "  ('hacienda', 13),\n",
       "  ('transporte', 11),\n",
       "  ('declaración', 11),\n",
       "  ('apoyo', 6),\n",
       "  ('sistema', 5),\n",
       "  ('mantenimiento', 5),\n",
       "  ('gobierno', 4),\n",
       "  ('acceso', 4),\n",
       "  ('educación', 4),\n",
       "  ('superior', 4),\n",
       "  ('instituto', 4),\n",
       "  ('construcción', 4),\n",
       "  ('mejoramiento', 4)],\n",
       " [('ministerio', 23),\n",
       "  ('público', 17),\n",
       "  ('crédito', 17),\n",
       "  ('nación', 15),\n",
       "  ('concepto', 13),\n",
       "  ('favorable', 13),\n",
       "  ('equivalente', 13),\n",
       "  ('monedas', 13),\n",
       "  ('planeación', 13),\n",
       "  ('hacienda', 13),\n",
       "  ('contratar', 12),\n",
       "  ('millones', 12),\n",
       "  ('usd', 11),\n",
       "  ('financiar', 10),\n",
       "  ('externo', 9),\n",
       "  ('banca', 8),\n",
       "  ('multilateral', 8),\n",
       "  ('suma', 7),\n",
       "  ('programa', 6),\n",
       "  ('empréstito', 6)],\n",
       " [('crédito', 6),\n",
       "  ('ministerio', 5),\n",
       "  ('documento', 3),\n",
       "  ('conpes', 3),\n",
       "  ('favorable', 3),\n",
       "  ('nación', 3),\n",
       "  ('otorgar', 3),\n",
       "  ('garantía', 3),\n",
       "  ('fondo', 3),\n",
       "  ('empresarial', 3),\n",
       "  ('creado', 3),\n",
       "  ('ley', 3),\n",
       "  ('contratar', 3),\n",
       "  ('operaciones', 3),\n",
       "  ('pasivas', 3),\n",
       "  ('suma', 3),\n",
       "  ('millones', 3),\n",
       "  ('pesos', 3),\n",
       "  ('planeación', 3),\n",
       "  ('hacienda', 3)],\n",
       " [('público', 6),\n",
       "  ('balance', 3),\n",
       "  ('primario', 3),\n",
       "  ('nivel', 3),\n",
       "  ('deuda', 3),\n",
       "  ('sector', 3),\n",
       "  ('financiero', 3),\n",
       "  ('spnf', 3),\n",
       "  ('planeación', 3),\n",
       "  ('ministerio', 3),\n",
       "  ('hacienda', 3),\n",
       "  ('crédito', 3)],\n",
       " [('plan', 3),\n",
       "  ('operativo', 3),\n",
       "  ('anual', 3),\n",
       "  ('inversiones', 3),\n",
       "  ('vigencia', 3),\n",
       "  ('planeación', 3),\n",
       "  ('ministerio', 3),\n",
       "  ('hacienda', 3),\n",
       "  ('crédito', 3),\n",
       "  ('público', 3)],\n",
       " [('ministerio', 47),\n",
       "  ('desarrollo', 9),\n",
       "  ('planeación', 7),\n",
       "  ('salud', 5),\n",
       "  ('protección', 5),\n",
       "  ('social', 5),\n",
       "  ('energía', 5),\n",
       "  ('ambiente', 5),\n",
       "  ('sostenible', 5),\n",
       "  ('vivienda', 5),\n",
       "  ('ciudad', 5),\n",
       "  ('territorio', 5),\n",
       "  ('transporte', 5),\n",
       "  ('comercio', 4),\n",
       "  ('industria', 4),\n",
       "  ('turismo', 4),\n",
       "  ('agricultura', 4),\n",
       "  ('rural', 4),\n",
       "  ('educación', 4),\n",
       "  ('hacienda', 4)],\n",
       " [('público', 4),\n",
       "  ('marco', 3),\n",
       "  ('gasto', 3),\n",
       "  ('mediano', 3),\n",
       "  ('plazo', 3),\n",
       "  ('planeación', 3),\n",
       "  ('ministerio', 3),\n",
       "  ('hacienda', 3),\n",
       "  ('crédito', 3),\n",
       "  ('dirección', 2),\n",
       "  ('presupuesto', 1),\n",
       "  ('inversiones', 1),\n",
       "  ('finanzas', 1),\n",
       "  ('públicas', 1)]]"
      ]
     },
     "execution_count": 14,
     "metadata": {},
     "output_type": "execute_result"
    }
   ],
   "source": [
    "# Extraer documentos de los clusters\n",
    "\n",
    "documents_clustered = pd.DataFrame(titles_clustering_f, X_clustered, columns = ['titles'])\n",
    "documents_clustered['cluster'] = documents_clustered.index\n",
    "#documents_clustered = documents_clustered.reset_index()\n",
    "\n",
    "documents_clustered = documents_clustered.sort_values(by=['cluster'])\n",
    "\n",
    "documents_grouped = documents_clustered.groupby('cluster').agg(' '.join)\n",
    "documents_grouped['cluster'] = np.arange(len(documents_grouped))\n",
    "\n",
    "\n",
    "# Palabras más comunes por cluster\n",
    "most_words = pd.DataFrame({\"KeyWords\" : documents_grouped[\"titles\"].apply(lambda x: [k for k, v in Counter(x).most_common(50)])}) \n",
    "\n",
    "# Total de palabras\n",
    "Counter(\" \".join(documents_grouped[\"titles\"]).split()).most_common(50)\n",
    "\n",
    "\n",
    "words_per_cluster = []\n",
    "\n",
    "for i in range(len(documents_grouped)):\n",
    "    temp = Counter(documents_grouped['titles'][i].split()).most_common(20)\n",
    "    words_per_cluster.append(temp)\n",
    "    \n",
    "words_per_cluster"
   ]
  },
  {
   "cell_type": "code",
   "execution_count": 16,
   "metadata": {
    "ExecuteTime": {
     "end_time": "2022-04-07T11:34:19.640185Z",
     "start_time": "2022-04-07T11:34:19.520281Z"
    }
   },
   "outputs": [],
   "source": [
    "# Knowledge graphs\n",
    "# Representación gráfica de una cadena de Markov\n",
    "\n",
    "tokens = []\n",
    "\n",
    "for i in range(len(documents_grouped)):\n",
    "    temp = nltk.tokenize.word_tokenize(documents_grouped['titles'][i])\n",
    "    tokens.append(temp)\n",
    "\n",
    "# Red de bigramas\n",
    "    \n",
    "def bigram_network(cluster):\n",
    "    ngram = list(ngrams(cluster, 2))\n",
    "    ngram_frequency = nltk.FreqDist(ngram)\n",
    "\n",
    "    ngram_frequency = dict(ngram_frequency.copy())\n",
    "    ngram_table = pd.DataFrame.from_dict(ngram_frequency, orient='Index', columns = ['frequency'])\n",
    "    ngram_table.reset_index(level=0, inplace=True)\n",
    "    \n",
    "    # ordenar tabla\n",
    "    ngram_table = ngram_table.sort_values(by=['frequency'], ascending = False)\n",
    "\n",
    "    terms_bigram = [list(bigrams(cluster))]\n",
    "    bigrams_l = list(ngrams(cluster, 2))\n",
    "    bigrams_l = list(itertools.chain(*terms_bigram))\n",
    "    \n",
    "    bigram_counts = collections.Counter(bigrams_l)\n",
    "    bigram_counts_graph = bigram_counts.most_common(30)\n",
    "    bigram_df = pd.DataFrame(bigram_counts_graph).reset_index()\n",
    "\n",
    "    bigram_df.columns = ['index','bigram','count']\n",
    "\n",
    "    # crear diccionario de bigramas y conteos\n",
    "\n",
    "    d = bigram_df.set_index('bigram').T.to_dict('records')\n",
    "\n",
    "    # objeto grafo\n",
    "    G = nx.Graph()\n",
    "\n",
    "    \n",
    "\n",
    "    # crear conexiones entre los nodos\n",
    "    for k, v in d[0].items():\n",
    "        G.add_edge(k[0], k[1], weight=(v * 10))\n",
    "\n",
    "\n",
    "    fig, ax = plt.subplots(figsize=(10, 8))\n",
    "\n",
    "    pos = nx.spring_layout(G, k=1)\n",
    "\n",
    "    # graficar\n",
    "    nx.draw_networkx(G, pos,\n",
    "                     font_size=16,\n",
    "                     width=3,\n",
    "                     edge_color='grey',\n",
    "                     node_color='purple',\n",
    "                     with_labels = False,\n",
    "                     ax=ax)\n",
    "\n",
    "    \n",
    "\n",
    "    # etiquetas\n",
    "    for key, value in pos.items():\n",
    "        x, y = value[0]+.06, value[1]+.01\n",
    "        ax.text(x, y,\n",
    "                s=key,\n",
    "                bbox=dict(facecolor='red', alpha=0.25),\n",
    "                horizontalalignment='center', fontsize=13)\n",
    "    \n",
    "    plt.show()\n",
    "    \n",
    "\n",
    "%matplotlib inline\n"
   ]
  },
  {
   "cell_type": "code",
   "execution_count": 24,
   "metadata": {
    "ExecuteTime": {
     "end_time": "2022-04-07T11:35:22.741204Z",
     "start_time": "2022-04-07T11:35:22.412127Z"
    }
   },
   "outputs": [
    {
     "data": {
      "image/png": "[encoded data removed]",
      "text/plain": [
       "<Figure size 720x576 with 1 Axes>"
      ]
     },
     "metadata": {},
     "output_type": "display_data"
    }
   ],
   "source": [
    "bigram_network(tokens[5])"
   ]
  }
 ],
 "metadata": {
  "hide_input": false,
  "kernelspec": {
   "display_name": "Python 3 (ipykernel)",
   "language": "python",
   "name": "python3"
  },
  "language_info": {
   "codemirror_mode": {
    "name": "ipython",
    "version": 3
   },
   "file_extension": ".py",
   "mimetype": "text/x-python",
   "name": "python",
   "nbconvert_exporter": "python",
   "pygments_lexer": "ipython3",
   "version": "3.8.12"
  },
  "nbTranslate": {
   "displayLangs": [
    "*"
   ],
   "hotkey": "alt-t",
   "langInMainMenu": true,
   "sourceLang": "en",
   "targetLang": "fr",
   "useGoogleTranslate": true
  },
  "toc": {
   "base_numbering": 1,
   "nav_menu": {},
   "number_sections": true,
   "sideBar": true,
   "skip_h1_title": false,
   "title_cell": "Table of Contents",
   "title_sidebar": "Contents",
   "toc_cell": false,
   "toc_position": {},
   "toc_section_display": true,
   "toc_window_display": false
  },
  "varInspector": {
   "cols": {
    "lenName": 16,
    "lenType": 16,
    "lenVar": 40
   },
   "kernels_config": {
    "python": {
     "delete_cmd_postfix": "",
     "delete_cmd_prefix": "del ",
     "library": "var_list.py",
     "varRefreshCmd": "print(var_dic_list())"
    },
    "r": {
     "delete_cmd_postfix": ") ",
     "delete_cmd_prefix": "rm(",
     "library": "var_list.r",
     "varRefreshCmd": "cat(var_dic_list()) "
    }
   },
   "oldHeight": 231.383334,
   "position": {
    "height": "40px",
    "left": "1032px",
    "right": "20px",
    "top": "135px",
    "width": "350px"
   },
   "types_to_exclude": [
    "module",
    "function",
    "builtin_function_or_method",
    "instance",
    "_Feature"
   ],
   "varInspector_section_display": "none",
   "window_display": true
  }
 },
 "nbformat": 4,
 "nbformat_minor": 4
}
