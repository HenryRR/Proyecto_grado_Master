{
 "cells": [
  {
   "cell_type": "markdown",
   "metadata": {},
   "source": [
    "# Descargar últimos documentos CONPES"
   ]
  },
  {
   "cell_type": "code",
   "execution_count": 1,
   "metadata": {
    "ExecuteTime": {
     "end_time": "2022-04-07T09:06:26.256782Z",
     "start_time": "2022-04-07T09:06:25.560598Z"
    }
   },
   "outputs": [],
   "source": [
    "# Paquetes necesitados\n",
    "import requests\n",
    "#from bs4 import BeautifulSoup\n",
    "import re\n",
    "import pandas as pd\n",
    "import os\n",
    "import urllib\n",
    "#import PyPDF2\n",
    "import time\n",
    "import sys"
   ]
  },
  {
   "cell_type": "markdown",
   "metadata": {},
   "source": [
    "En la página web del DNP hay un archivo .csv que contiene las direcciones de descargar de los documentos, aunque lamentablemente los últimos documentos no están actualizados en este archivo. En este caso tendríamos que hacer uso del web scraping, pero como la URL de los documentos es estática, podemos tomar ventaja de ello."
   ]
  },
  {
   "cell_type": "code",
   "execution_count": 6,
   "metadata": {
    "ExecuteTime": {
     "end_time": "2022-04-07T09:30:12.075435Z",
     "start_time": "2022-04-07T09:30:12.064432Z"
    },
    "scrolled": true
   },
   "outputs": [],
   "source": [
    "# Obtener los links de cada pdf\n",
    "last_pdfs_links = []\n",
    "link_part = \"https://colaboracion.dnp.gov.co/CDT/Conpes/Econ%C3%B3micos/\"\n",
    "for i in range(3873, 3971):\n",
    "    #temp_link = \"https://colaboracion.dnp.gov.co/CDT/Conpes/Econ%C3%B3micos/3970.pdf\"\n",
    "    temp_link = link_part + str(i) + \".pdf\"\n",
    "    last_pdfs_links.append(temp_link)"
   ]
  },
  {
   "cell_type": "code",
   "execution_count": 3,
   "metadata": {
    "ExecuteTime": {
     "end_time": "2022-04-07T09:30:14.443477Z",
     "start_time": "2022-04-07T09:30:14.431474Z"
    }
   },
   "outputs": [
    {
     "data": {
      "text/plain": [
       "['https://colaboracion.dnp.gov.co/CDT/Conpes/Econ%C3%B3micos/3873.pdf',\n",
       " 'https://colaboracion.dnp.gov.co/CDT/Conpes/Econ%C3%B3micos/3874.pdf',\n",
       " 'https://colaboracion.dnp.gov.co/CDT/Conpes/Econ%C3%B3micos/3875.pdf',\n",
       " 'https://colaboracion.dnp.gov.co/CDT/Conpes/Econ%C3%B3micos/3876.pdf',\n",
       " 'https://colaboracion.dnp.gov.co/CDT/Conpes/Econ%C3%B3micos/3877.pdf',\n",
       " 'https://colaboracion.dnp.gov.co/CDT/Conpes/Econ%C3%B3micos/3878.pdf',\n",
       " 'https://colaboracion.dnp.gov.co/CDT/Conpes/Econ%C3%B3micos/3879.pdf',\n",
       " 'https://colaboracion.dnp.gov.co/CDT/Conpes/Econ%C3%B3micos/3880.pdf',\n",
       " 'https://colaboracion.dnp.gov.co/CDT/Conpes/Econ%C3%B3micos/3881.pdf',\n",
       " 'https://colaboracion.dnp.gov.co/CDT/Conpes/Econ%C3%B3micos/3882.pdf']"
      ]
     },
     "execution_count": 3,
     "metadata": {},
     "output_type": "execute_result"
    }
   ],
   "source": [
    "# Primeros 10 links\n",
    "last_pdfs_links[0:10]"
   ]
  },
  {
   "cell_type": "markdown",
   "metadata": {},
   "source": [
    "Ahora a descargar cada archivo"
   ]
  },
  {
   "cell_type": "markdown",
   "metadata": {},
   "source": [
    "## Descarga de documentos en directorio especificado "
   ]
  },
  {
   "cell_type": "code",
   "execution_count": 15,
   "metadata": {
    "ExecuteTime": {
     "end_time": "2022-04-07T09:38:45.645786Z",
     "start_time": "2022-04-07T09:30:18.033358Z"
    }
   },
   "outputs": [
    {
     "name": "stdout",
     "output_type": "stream",
     "text": [
      "CONPES 3873.pdf descargado\n",
      "CONPES 3874.pdf descargado\n",
      "CONPES 3875.pdf descargado\n",
      "CONPES 3876.pdf descargado\n",
      "CONPES 3877.pdf descargado\n",
      "CONPES 3878.pdf descargado\n",
      "CONPES 3879.pdf descargado\n",
      "CONPES 3880.pdf descargado\n",
      "CONPES 3881.pdf descargado\n",
      "CONPES 3882.pdf descargado\n",
      "CONPES 3883.pdf descargado\n",
      "CONPES 3884.pdf descargado\n",
      "CONPES 3885.pdf descargado\n",
      "CONPES 3886.pdf descargado\n",
      "CONPES 3887.pdf descargado\n",
      "CONPES 3888.pdf descargado\n",
      "CONPES 3889.pdf descargado\n",
      "CONPES 3890.pdf descargado\n",
      "CONPES 3891.pdf descargado\n",
      "CONPES 3892.pdf descargado\n",
      "CONPES 3893.pdf descargado\n",
      "CONPES 3894.pdf descargado\n",
      "CONPES 3895.pdf descargado\n",
      "CONPES 3896.pdf descargado\n",
      "CONPES 3897.pdf descargado\n",
      "CONPES 3898.pdf descargado\n",
      "CONPES 3899.pdf descargado\n",
      "CONPES 3900.pdf descargado\n",
      "CONPES 3901.pdf descargado\n",
      "CONPES 3902.pdf descargado\n",
      "CONPES 3903.pdf descargado\n",
      "CONPES 3904.pdf descargado\n",
      "CONPES 3905.pdf descargado\n",
      "CONPES 3906.pdf descargado\n",
      "CONPES 3907.pdf descargado\n",
      "CONPES 3908.pdf descargado\n",
      "CONPES 3909.pdf descargado\n",
      "CONPES 3910.pdf descargado\n",
      "CONPES 3911.pdf descargado\n",
      "CONPES 3912.pdf descargado\n",
      "CONPES 3913.pdf descargado\n",
      "CONPES 3914.pdf descargado\n",
      "CONPES 3915.pdf descargado\n",
      "CONPES 3916.pdf descargado\n",
      "CONPES 3917.pdf descargado\n",
      "CONPES 3918.pdf descargado\n",
      "CONPES 3919.pdf descargado\n",
      "CONPES 3920.pdf descargado\n",
      "CONPES 3921.pdf descargado\n",
      "CONPES 3922.pdf descargado\n",
      "CONPES 3923.pdf descargado\n",
      "CONPES 3924.pdf descargado\n",
      "CONPES 3925.pdf descargado\n",
      "CONPES 3926.pdf descargado\n",
      "CONPES 3927.pdf descargado\n",
      "CONPES 3928.pdf descargado\n",
      "CONPES 3929.pdf descargado\n",
      "CONPES 3930.pdf descargado\n",
      "CONPES 3931.pdf descargado\n",
      "CONPES 3932.pdf descargado\n",
      "CONPES 3933.pdf descargado\n",
      "CONPES 3934.pdf descargado\n",
      "CONPES 3935.pdf descargado\n",
      "CONPES 3936.pdf descargado\n",
      "CONPES 3937.pdf descargado\n",
      "CONPES 3938.pdf descargado\n",
      "CONPES 3939.pdf descargado\n",
      "CONPES 3940.pdf descargado\n",
      "CONPES 3941.pdf descargado\n",
      "CONPES 3942.pdf descargado\n",
      "CONPES 3943.pdf descargado\n",
      "CONPES 3944.pdf descargado\n",
      "CONPES 3945.pdf descargado\n",
      "CONPES 3946.pdf descargado\n",
      "CONPES 3947.pdf descargado\n",
      "CONPES 3948.pdf descargado\n",
      "CONPES 3949.pdf descargado\n",
      "CONPES 3950.pdf descargado\n",
      "CONPES 3951.pdf descargado\n",
      "CONPES 3952.pdf descargado\n",
      "CONPES 3953.pdf descargado\n",
      "CONPES 3954.pdf descargado\n",
      "CONPES 3955.pdf descargado\n",
      "CONPES 3956.pdf descargado\n",
      "CONPES 3957.pdf descargado\n",
      "CONPES 3958.pdf descargado\n",
      "CONPES 3959.pdf descargado\n",
      "CONPES 3960.pdf descargado\n",
      "CONPES 3961.pdf descargado\n",
      "CONPES 3962.pdf descargado\n",
      "CONPES 3963.pdf descargado\n",
      "CONPES 3964.pdf descargado\n",
      "CONPES 3965.pdf descargado\n",
      "CONPES 3966.pdf descargado\n",
      "CONPES 3967.pdf descargado\n",
      "CONPES 3968.pdf descargado\n",
      "CONPES 3969.pdf descargado\n",
      "CONPES 3970.pdf descargado\n"
     ]
    }
   ],
   "source": [
    "#------------------------------\n",
    "# Descargar en carpeta cada pdf\n",
    "#------------------------------\n",
    "\n",
    "# Path\n",
    "scriptPath = sys.path[0]\n",
    "download_directory = scriptPath + '/Last_conpes_pdfs'\n",
    "\n",
    "# Lista numerada para mantener el orden de los documentos\n",
    "sequence = list(range(3873,3971))\n",
    "\n",
    "65"
   ]
  }
 ],
 "metadata": {
  "hide_input": false,
  "kernelspec": {
   "display_name": "Python 3 (ipykernel)",
   "language": "python",
   "name": "python3"
  },
  "language_info": {
   "codemirror_mode": {
    "name": "ipython",
    "version": 3
   },
   "file_extension": ".py",
   "mimetype": "text/x-python",
   "name": "python",
   "nbconvert_exporter": "python",
   "pygments_lexer": "ipython3",
   "version": "3.9.13"
  },
  "nbTranslate": {
   "displayLangs": [
    "*"
   ],
   "hotkey": "alt-t",
   "langInMainMenu": true,
   "sourceLang": "en",
   "targetLang": "fr",
   "useGoogleTranslate": true
  },
  "toc": {
   "base_numbering": 1,
   "nav_menu": {},
   "number_sections": true,
   "sideBar": true,
   "skip_h1_title": false,
   "title_cell": "Table of Contents",
   "title_sidebar": "Contents",
   "toc_cell": false,
   "toc_position": {},
   "toc_section_display": true,
   "toc_window_display": false
  },
  "varInspector": {
   "cols": {
    "lenName": 16,
    "lenType": 16,
    "lenVar": 40
   },
   "kernels_config": {
    "python": {
     "delete_cmd_postfix": "",
     "delete_cmd_prefix": "del ",
     "library": "var_list.py",
     "varRefreshCmd": "print(var_dic_list())"
    },
    "r": {
     "delete_cmd_postfix": ") ",
     "delete_cmd_prefix": "rm(",
     "library": "var_list.r",
     "varRefreshCmd": "cat(var_dic_list()) "
    }
   },
   "position": {
    "height": "302.85px",
    "left": "1038px",
    "right": "20px",
    "top": "120px",
    "width": "350px"
   },
   "types_to_exclude": [
    "module",
    "function",
    "builtin_function_or_method",
    "instance",
    "_Feature"
   ],
   "window_display": false
  }
 },
 "nbformat": 4,
 "nbformat_minor": 2
}
